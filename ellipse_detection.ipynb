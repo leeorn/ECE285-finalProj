{
 "cells": [
  {
   "cell_type": "code",
   "execution_count": 1,
   "metadata": {},
   "outputs": [],
   "source": [
    "import numpy as np\n",
    "import cv2\n",
    "from math import sqrt"
   ]
  },
  {
   "cell_type": "code",
   "execution_count": 24,
   "metadata": {},
   "outputs": [],
   "source": [
    "# converts the image to black and white\n",
    "# gets the contours\n",
    "def preprocess(img):\n",
    "    # gets the edges of the image\n",
    "    img = cv2.medianBlur(img,5)\n",
    "    cimg = cv2.cvtColor(img,cv2.COLOR_GRAY2BGR) # gray image\n",
    "    canny = cv2.Canny(cimg, 30, 200)\n",
    "    \n",
    "    # stores the non-black pixels in a list\n",
    "    white_pixels = np.nonzero(canny)\n",
    "    pixels = []\n",
    "    # an array (1D) of tuples of the x,y pixels that are NOT background\n",
    "    for i in range(white_pixels[0].shape[0]):\n",
    "        pixels.append((white_pixels[0][i], white_pixels[1][i]))\n",
    "    \n",
    "    return pixels"
   ]
  },
  {
   "cell_type": "code",
   "execution_count": null,
   "metadata": {},
   "outputs": [],
   "source": [
    "# save computation time for square calculation\n",
    "def pow2(val):\n",
    "    return val * val"
   ]
  },
  {
   "cell_type": "code",
   "execution_count": 27,
   "metadata": {},
   "outputs": [],
   "source": [
    "# returns the squared distance between two points (x1,y1), (x2,y2) (not using sqrt to save time)\n",
    "def distance_square(pt1, pt2):\n",
    "    return ( pow2(pt1[0] - pt2[0]) + pow2(pt1[1] - pt2[1]) )"
   ]
  },
  {
   "cell_type": "code",
   "execution_count": null,
   "metadata": {},
   "outputs": [],
   "source": [
    "def distance(pt1, pt2):\n",
    "    return ( sqrt(pow2(pt1[0] - pt2[0]) + pow2(pt1[1] - pt2[1])) )"
   ]
  },
  {
   "cell_type": "code",
   "execution_count": null,
   "metadata": {},
   "outputs": [],
   "source": [
    "def calc_params(pt1, pt2):\n",
    "    # ellipse's center\n",
    "    x_0 = (pt1[0] + pt2[0]) / 2\n",
    "    y_0 = (pt1[1] + pt2[1]) / 2\n",
    "    \n",
    "    # half length of major axis\n",
    "    a = (distance(pt1, pt2)) / 2\n",
    "    \n",
    "    # ellipse's orientation\n",
    "    if pt2[0] == pt1[0]:\n",
    "        alpha = 0\n",
    "    else:\n",
    "        alpha = math.atan( (pt2[1] - pt1[1]) / (pt2[0] - pt1[0]) )\n",
    "    \n",
    "    # return center, half length of major axis, and orientation\n",
    "    return x_0, y_0, a, alpha"
   ]
  },
  {
   "cell_type": "code",
   "execution_count": null,
   "metadata": {},
   "outputs": [],
   "source": [
    "def calc_minor_len(px, pt2, center_pt, a):\n",
    "    # square distance between (x,y) and (x2,y2)\n",
    "    f_sq = distance_square(px, pt2)\n",
    "    \n",
    "    # square distance between (x,y) and (x0,y0)\n",
    "    d_sq = distance_square(px, center_pt)\n",
    "    \n",
    "    a_sq = pow2(a)\n",
    "    \n",
    "    cos_tau = (a_sq + d_sq - f_sq) / (2 * a * sqrt(d_sq))\n",
    "    sin_tau = 1 - cos_tau\n",
    "    \n",
    "    b_sq = (a_sq * d_sq * pow2(sin_tau)) / (a_sq - (d_sq * pow2(cos_tau)))\n",
    "    \n",
    "    return sqrt(b_sq)"
   ]
  },
  {
   "cell_type": "code",
   "execution_count": null,
   "metadata": {},
   "outputs": [],
   "source": [
    "'''\n",
    "ellipse detector function\n",
    "arguments: pixels array - all the (x,y) pixels in the image that are not the background\n",
    "           min radius - to ignore ellipse with a radius smaller than this one\n",
    "'''\n",
    "def ellipse_detector(pixels_arr, min_r, max_r, vote_count):\n",
    "    # indices that already were detected, and we don't want to calculate them again\n",
    "    ignore_indices = set()\n",
    "    min_r_sq = pow2(min_r)\n",
    "    max_r_sq = pow2(max_r)\n",
    "    \n",
    "    ellipse_detected = [] # store the parameters of the ellipse \n",
    "    \n",
    "    for pixel1 in range(len(pixels_arr)): # step 3           \n",
    "        for pixel2 in range(pixel1 + 1, len(pixels_arr)): # step 4\n",
    "            # already tested, move on\n",
    "            if pixel1 in ignore_indices or pixel2 in ignore_indices:\n",
    "                continue\n",
    "            \n",
    "            # if the (x1,y1), (x2,y2) points are too close or too far don't calculate\n",
    "            p1_p2_sq_dist = distance_square(pixels_arr[pixel1], pixels_arr[pixel2])\n",
    "            if(p1_p2_sq_dist < min_r_sq or p1_p2_sq_dist > max_r_sq):  \n",
    "                continue\n",
    "            \n",
    "            # step 5 (assumes ellipse)\n",
    "            center_x, center_y, major_len, orientation = calc_params(pixel1, pixel2)\n",
    "            \n",
    "            accum_arr = []\n",
    "            \n",
    "            for pix in range(len(pixels_arr)): # step 6\n",
    "                if pix == pixel1 or pix == pixel2 or pix in ignore_indices:\n",
    "                    continue\n",
    "                \n",
    "                pix_to_center_dist = distance_square(pixels_arr[pix], (center_x, center_y))\n",
    "                if pix_to_center_dist < min_r_sq or pix_to_center_dist > max_r_sq: # step 6\n",
    "                    continue\n",
    "                    \n",
    "                # step 7\n",
    "                minor_len = calc_minor_len(pix, pixel2, (center_x, center_y), major_len)\n",
    "                \n",
    "                # the calculated parameters for the ellipse\n",
    "                cur_ellipse_param = [(center_x, center_y), major_len, minor_len, orientation]\n",
    "                \n",
    "                accum_arr.append(cur_ellipse_param) # step 8\n",
    "            # step 9 - out of this function\n",
    "            \n",
    "            # step 10 ??\n",
    "            # the changes we allow to still be considered as the same ellipse \n",
    "#             epsilon = 0.01 # ??\n",
    "            \n",
    "            # will be a dict of \n",
    "            # key: minor value; value:(count, ellipse_param); -> {minor : (count, ellipse)}\n",
    "            voters = {}\n",
    "            \n",
    "            # go over all the points and count votes for each minor axis\n",
    "            for e in range(len(accum_arr)):\n",
    "                curPt = accum_arr[e]\n",
    "                # the current minor axis length, rounded to 2 dec pt (to avoid too many options)\n",
    "                curMinorLen = round(curPt[2], 2)\n",
    "                \n",
    "                # if the current minor is alrady in the dict, increase the voter count for it\n",
    "                if curMinorLen in voters: # can do curMinorLen +- epsilon if I want to do it here\n",
    "                    tmp = voters[curMinorLen]\n",
    "                    voters[curMinorLen] = (tmp[0]+1, tmp[1])\n",
    "                    \n",
    "                    # if we have enough points \"voting\" for this minor, stop the search\n",
    "                    if tmp[0]+1 == vote_count:\n",
    "                        return ellipse_detected.append(tmp[1]) # add the parameters of this ellipse\n",
    "                \n",
    "                # else, add current minor to the dict, with the current ellipse parameters\n",
    "                else:\n",
    "                    voters[curMinorLen] = (1, curPt) # count is 1, save the current params\n",
    "                \n",
    "                \n",
    "                \n",
    "                "
   ]
  },
  {
   "cell_type": "code",
   "execution_count": 26,
   "metadata": {},
   "outputs": [
    {
     "data": {
      "text/plain": [
       "(0, 95)"
      ]
     },
     "execution_count": 26,
     "metadata": {},
     "output_type": "execute_result"
    }
   ],
   "source": [
    "im = cv2.imread('data/imgs/train/c0/img_104.jpg',0)\n",
    "i = preprocess(im)\n",
    "\n",
    "# cv2.imshow('Contours', i)\n",
    "# cv2.waitKey()\n",
    "# cv2.destroyAllWindows()"
   ]
  },
  {
   "cell_type": "code",
   "execution_count": 9,
   "metadata": {},
   "outputs": [],
   "source": []
  },
  {
   "cell_type": "code",
   "execution_count": 3,
   "metadata": {},
   "outputs": [
    {
     "data": {
      "text/plain": [
       "[('abc', 231), ('abc', 221), ('abc', 148), ('abc', 121)]"
      ]
     },
     "execution_count": 3,
     "metadata": {},
     "output_type": "execute_result"
    }
   ],
   "source": [
    "l = [('abc', 121),('abc', 231),('abc', 148), ('abc',221)]\n",
    "l.sort(key=lambda x: x[1], reverse=True)\n",
    "l"
   ]
  },
  {
   "cell_type": "code",
   "execution_count": 15,
   "metadata": {},
   "outputs": [
    {
     "data": {
      "text/plain": [
       "{1: (11, 5)}"
      ]
     },
     "execution_count": 15,
     "metadata": {},
     "output_type": "execute_result"
    }
   ],
   "source": [
    "# [(center_x, center_y), major_len, minor_len, orientation]\n",
    "obj = [(1,2), 1,1,0]\n",
    "voters = {1 : (10,5)}\n",
    "\n",
    "a = voters[1]\n",
    "a[0]\n",
    "voters[1] = (a[0]+1, a[1])\n",
    "voters"
   ]
  }
 ],
 "metadata": {
  "kernelspec": {
   "display_name": "Python 3.7.6 64-bit ('base': conda)",
   "language": "python",
   "name": "python37664bitbasecondaf7257d1d992344adbd4a23aabf935f29"
  },
  "language_info": {
   "codemirror_mode": {
    "name": "ipython",
    "version": 3
   },
   "file_extension": ".py",
   "mimetype": "text/x-python",
   "name": "python",
   "nbconvert_exporter": "python",
   "pygments_lexer": "ipython3",
   "version": "3.7.6"
  }
 },
 "nbformat": 4,
 "nbformat_minor": 4
}
